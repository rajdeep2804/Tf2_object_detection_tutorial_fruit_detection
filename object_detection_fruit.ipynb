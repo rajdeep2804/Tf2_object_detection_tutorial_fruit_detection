{
 "cells": [
  {
   "cell_type": "code",
   "execution_count": 1,
   "id": "acf95383",
   "metadata": {},
   "outputs": [
    {
     "name": "stderr",
     "output_type": "stream",
     "text": [
      "2022-01-27 04:24:03.336671: I tensorflow/stream_executor/platform/default/dso_loader.cc:49] Successfully opened dynamic library libcudart.so.11.0\n"
     ]
    }
   ],
   "source": [
    "import warnings\n",
    "warnings.filterwarnings('ignore')\n",
    "import numpy as np\n",
    "import os\n",
    "import pandas as pd\n",
    "import tensorflow as tf\n",
    "from matplotlib import pyplot as plt\n",
    "from PIL import Image\n",
    "import glob as glob\n",
    "import cv2\n",
    "import sys\n",
    "from os import listdir\n",
    "from os.path import isfile, join\n",
    "import time\n",
    "from PIL import ImageFile\n",
    "import shutil\n",
    "%matplotlib inline\n",
    "sys.path.append(\"..\")\n",
    "CWD_PATH = os.getcwd()"
   ]
  },
  {
   "cell_type": "code",
   "execution_count": 2,
   "id": "9dda5acf",
   "metadata": {},
   "outputs": [],
   "source": [
    "from utils import label_map_util\n",
    "from utils import visualization_utils as vis_util"
   ]
  },
  {
   "cell_type": "code",
   "execution_count": 3,
   "id": "cb9e5982",
   "metadata": {},
   "outputs": [],
   "source": [
    "MODEL_NAME = 'ssd_mobilenet_v2'"
   ]
  },
  {
   "cell_type": "code",
   "execution_count": 4,
   "id": "e7836b28",
   "metadata": {},
   "outputs": [],
   "source": [
    "MODEL_PATH = os.path.join('model', MODEL_NAME)\n",
    "PATH_TO_CKPT = os.path.join(MODEL_PATH,'weights','saved_model')\n",
    "#PATH_TO_CKPT = os.path.join(MODEL_PATH,'saved_model')\n",
    "# List of the strings that is used to add correct label for each box.\n",
    "PATH_TO_LABELS = os.path.join('fruit_detection','data', 'fruit.pbtxt')\n",
    "\n",
    "NUM_CLASSES = 3"
   ]
  },
  {
   "cell_type": "code",
   "execution_count": 5,
   "id": "65327bde",
   "metadata": {},
   "outputs": [
    {
     "name": "stdout",
     "output_type": "stream",
     "text": [
      "PATH_TO_CKPT : model/ssd_mobilenet_v2/weights/saved_model\n",
      "PATH_TO_LABELS : fruit_detection/data/fruit.pbtxt\n"
     ]
    },
    {
     "name": "stderr",
     "output_type": "stream",
     "text": [
      "2022-01-27 04:25:46.464576: I tensorflow/compiler/jit/xla_cpu_device.cc:41] Not creating XLA devices, tf_xla_enable_xla_devices not set\n",
      "2022-01-27 04:25:46.465117: I tensorflow/stream_executor/platform/default/dso_loader.cc:49] Successfully opened dynamic library libcuda.so.1\n",
      "2022-01-27 04:25:46.518450: I tensorflow/core/common_runtime/gpu/gpu_device.cc:1720] Found device 0 with properties: \n",
      "pciBusID: 0000:0a:00.0 name: NVIDIA GeForce GTX 1080 Ti computeCapability: 6.1\n",
      "coreClock: 1.6705GHz coreCount: 28 deviceMemorySize: 10.92GiB deviceMemoryBandwidth: 451.17GiB/s\n",
      "2022-01-27 04:25:46.518916: I tensorflow/core/common_runtime/gpu/gpu_device.cc:1720] Found device 1 with properties: \n",
      "pciBusID: 0000:41:00.0 name: NVIDIA GeForce GTX 1080 Ti computeCapability: 6.1\n",
      "coreClock: 1.6705GHz coreCount: 28 deviceMemorySize: 10.91GiB deviceMemoryBandwidth: 451.17GiB/s\n",
      "2022-01-27 04:25:46.518943: I tensorflow/stream_executor/platform/default/dso_loader.cc:49] Successfully opened dynamic library libcudart.so.11.0\n",
      "2022-01-27 04:25:46.521760: I tensorflow/stream_executor/platform/default/dso_loader.cc:49] Successfully opened dynamic library libcublas.so.11\n",
      "2022-01-27 04:25:46.521828: I tensorflow/stream_executor/platform/default/dso_loader.cc:49] Successfully opened dynamic library libcublasLt.so.11\n",
      "2022-01-27 04:25:46.522844: I tensorflow/stream_executor/platform/default/dso_loader.cc:49] Successfully opened dynamic library libcufft.so.10\n",
      "2022-01-27 04:25:46.523087: I tensorflow/stream_executor/platform/default/dso_loader.cc:49] Successfully opened dynamic library libcurand.so.10\n",
      "2022-01-27 04:25:46.524713: I tensorflow/stream_executor/platform/default/dso_loader.cc:49] Successfully opened dynamic library libcusolver.so.10\n",
      "2022-01-27 04:25:46.525510: I tensorflow/stream_executor/platform/default/dso_loader.cc:49] Successfully opened dynamic library libcusparse.so.11\n",
      "2022-01-27 04:25:46.525661: I tensorflow/stream_executor/platform/default/dso_loader.cc:49] Successfully opened dynamic library libcudnn.so.8\n",
      "2022-01-27 04:25:46.527538: I tensorflow/core/common_runtime/gpu/gpu_device.cc:1862] Adding visible gpu devices: 0, 1\n",
      "2022-01-27 04:25:46.528125: I tensorflow/core/platform/cpu_feature_guard.cc:142] This TensorFlow binary is optimized with oneAPI Deep Neural Network Library (oneDNN) to use the following CPU instructions in performance-critical operations:  AVX2 FMA\n",
      "To enable them in other operations, rebuild TensorFlow with the appropriate compiler flags.\n",
      "2022-01-27 04:25:46.529432: I tensorflow/compiler/jit/xla_gpu_device.cc:99] Not creating XLA devices, tf_xla_enable_xla_devices not set\n",
      "2022-01-27 04:25:46.657627: I tensorflow/core/common_runtime/gpu/gpu_device.cc:1720] Found device 0 with properties: \n",
      "pciBusID: 0000:0a:00.0 name: NVIDIA GeForce GTX 1080 Ti computeCapability: 6.1\n",
      "coreClock: 1.6705GHz coreCount: 28 deviceMemorySize: 10.92GiB deviceMemoryBandwidth: 451.17GiB/s\n",
      "2022-01-27 04:25:46.657842: I tensorflow/core/common_runtime/gpu/gpu_device.cc:1720] Found device 1 with properties: \n",
      "pciBusID: 0000:41:00.0 name: NVIDIA GeForce GTX 1080 Ti computeCapability: 6.1\n",
      "coreClock: 1.6705GHz coreCount: 28 deviceMemorySize: 10.91GiB deviceMemoryBandwidth: 451.17GiB/s\n",
      "2022-01-27 04:25:46.657869: I tensorflow/stream_executor/platform/default/dso_loader.cc:49] Successfully opened dynamic library libcudart.so.11.0\n",
      "2022-01-27 04:25:46.657895: I tensorflow/stream_executor/platform/default/dso_loader.cc:49] Successfully opened dynamic library libcublas.so.11\n",
      "2022-01-27 04:25:46.657904: I tensorflow/stream_executor/platform/default/dso_loader.cc:49] Successfully opened dynamic library libcublasLt.so.11\n",
      "2022-01-27 04:25:46.657913: I tensorflow/stream_executor/platform/default/dso_loader.cc:49] Successfully opened dynamic library libcufft.so.10\n",
      "2022-01-27 04:25:46.657922: I tensorflow/stream_executor/platform/default/dso_loader.cc:49] Successfully opened dynamic library libcurand.so.10\n",
      "2022-01-27 04:25:46.657931: I tensorflow/stream_executor/platform/default/dso_loader.cc:49] Successfully opened dynamic library libcusolver.so.10\n",
      "2022-01-27 04:25:46.657939: I tensorflow/stream_executor/platform/default/dso_loader.cc:49] Successfully opened dynamic library libcusparse.so.11\n",
      "2022-01-27 04:25:46.657948: I tensorflow/stream_executor/platform/default/dso_loader.cc:49] Successfully opened dynamic library libcudnn.so.8\n",
      "2022-01-27 04:25:46.658689: I tensorflow/core/common_runtime/gpu/gpu_device.cc:1862] Adding visible gpu devices: 0, 1\n",
      "2022-01-27 04:25:46.658714: I tensorflow/stream_executor/platform/default/dso_loader.cc:49] Successfully opened dynamic library libcudart.so.11.0\n",
      "2022-01-27 04:25:47.174177: I tensorflow/core/common_runtime/gpu/gpu_device.cc:1261] Device interconnect StreamExecutor with strength 1 edge matrix:\n",
      "2022-01-27 04:25:47.174207: I tensorflow/core/common_runtime/gpu/gpu_device.cc:1267]      0 1 \n",
      "2022-01-27 04:25:47.174213: I tensorflow/core/common_runtime/gpu/gpu_device.cc:1280] 0:   N Y \n",
      "2022-01-27 04:25:47.174216: I tensorflow/core/common_runtime/gpu/gpu_device.cc:1280] 1:   Y N \n",
      "2022-01-27 04:25:47.175211: I tensorflow/core/common_runtime/gpu/gpu_device.cc:1406] Created TensorFlow device (/job:localhost/replica:0/task:0/device:GPU:0 with 8175 MB memory) -> physical GPU (device: 0, name: NVIDIA GeForce GTX 1080 Ti, pci bus id: 0000:0a:00.0, compute capability: 6.1)\n",
      "2022-01-27 04:25:47.176021: I tensorflow/core/common_runtime/gpu/gpu_device.cc:1406] Created TensorFlow device (/job:localhost/replica:0/task:0/device:GPU:1 with 9968 MB memory) -> physical GPU (device: 1, name: NVIDIA GeForce GTX 1080 Ti, pci bus id: 0000:41:00.0, compute capability: 6.1)\n"
     ]
    }
   ],
   "source": [
    "print('PATH_TO_CKPT :', PATH_TO_CKPT)\n",
    "print('PATH_TO_LABELS :', PATH_TO_LABELS)\n",
    "tf.keras.backend.clear_session()\n",
    "detect_fn = tf.saved_model.load(PATH_TO_CKPT)"
   ]
  },
  {
   "cell_type": "code",
   "execution_count": 6,
   "id": "8fcc3251",
   "metadata": {},
   "outputs": [
    {
     "name": "stdout",
     "output_type": "stream",
     "text": [
      "item {\n",
      "  name: \"orange\"\n",
      "  id: 1\n",
      "}\n",
      "item {\n",
      "  name: \"apple\"\n",
      "  id: 2\n",
      "}\n",
      "item {\n",
      "  name: \"banana\"\n",
      "  id: 3\n",
      "}\n",
      "\n",
      "[{'id': 1, 'name': 'orange'}, {'id': 2, 'name': 'apple'}, {'id': 3, 'name': 'banana'}]\n",
      "{1: {'id': 1, 'name': 'orange'}, 2: {'id': 2, 'name': 'apple'}, 3: {'id': 3, 'name': 'banana'}}\n"
     ]
    }
   ],
   "source": [
    "label_map = label_map_util.load_labelmap(PATH_TO_LABELS)\n",
    "print(label_map)\n",
    "categories = label_map_util.convert_label_map_to_categories(label_map, max_num_classes=NUM_CLASSES, use_display_name=True)\n",
    "print(categories)\n",
    "category_index = label_map_util.create_category_index(categories)\n",
    "print(category_index)"
   ]
  },
  {
   "cell_type": "code",
   "execution_count": 7,
   "id": "f2005183",
   "metadata": {},
   "outputs": [],
   "source": [
    "PATH_TO_TEST_IMAGES_DIR = 'fruit_detection/fruit_data/test'\n",
    "image_name=[]"
   ]
  },
  {
   "cell_type": "code",
   "execution_count": 8,
   "id": "a2f5b5de",
   "metadata": {},
   "outputs": [],
   "source": [
    "from natsort import natsorted\n",
    "TEST_IMAGE_PATHS = [os.path.join(PATH_TO_TEST_IMAGES_DIR, f) for f in listdir(PATH_TO_TEST_IMAGES_DIR) if isfile(os.path.join(PATH_TO_TEST_IMAGES_DIR, f))]\n",
    "TEST_IMAGE_PATHS = sorted(TEST_IMAGE_PATHS)\n",
    "TEST_IMAGE_PATHS = natsorted(TEST_IMAGE_PATHS)\n",
    "#print('TEST_IMAGE_PATHS :',TEST_IMAGE_PATHS)"
   ]
  },
  {
   "cell_type": "code",
   "execution_count": 9,
   "id": "fa33940a",
   "metadata": {},
   "outputs": [
    {
     "name": "stdout",
     "output_type": "stream",
     "text": [
      "['apple_77.jpg', 'apple_77.xml', 'apple_78.jpg', 'apple_78.xml', 'apple_79.jpg', 'apple_79.xml', 'apple_80.jpg', 'apple_80.xml', 'apple_81.jpg', 'apple_81.xml', 'apple_82.jpg', 'apple_82.xml', 'apple_83.jpg', 'apple_83.xml', 'apple_84.jpg', 'apple_84.xml', 'apple_85.jpg', 'apple_85.xml', 'apple_86.jpg', 'apple_86.xml', 'apple_87.jpg', 'apple_87.xml', 'apple_88.jpg', 'apple_88.xml', 'apple_89.jpg', 'apple_89.xml', 'banana_77.jpg', 'banana_77.xml', 'banana_78.jpg', 'banana_78.xml', 'banana_79.jpg', 'banana_79.xml', 'banana_80.jpg', 'banana_80.xml', 'banana_81.jpg', 'banana_81.xml', 'banana_82.jpg', 'banana_82.xml', 'banana_83.jpg', 'banana_83.xml', 'banana_84.jpg', 'banana_84.xml', 'banana_85.jpg', 'banana_85.xml', 'banana_86.jpg', 'banana_86.xml', 'banana_87.jpg', 'banana_87.xml', 'banana_88.jpg', 'banana_88.xml', 'banana_89.jpg', 'banana_89.xml', 'mixed_21.jpg', 'mixed_21.xml', 'mixed_22.jpg', 'mixed_22.xml', 'mixed_23.jpg', 'mixed_23.xml', 'orange_77.jpg', 'orange_77.xml', 'orange_78.jpg', 'orange_78.xml', 'orange_79.jpg', 'orange_79.xml', 'orange_80.jpg', 'orange_80.xml', 'orange_81.jpg', 'orange_81.xml', 'orange_82.jpg', 'orange_82.xml', 'orange_83.jpg', 'orange_83.xml', 'orange_84.jpg', 'orange_84.xml', 'orange_85.jpg', 'orange_85.xml', 'orange_86.jpg', 'orange_86.xml', 'orange_87.jpg', 'orange_87.xml', 'orange_89.jpg', 'orange_89.xml']\n"
     ]
    }
   ],
   "source": [
    "image_name=[f for f in listdir(PATH_TO_TEST_IMAGES_DIR) if isfile(os.path.join(PATH_TO_TEST_IMAGES_DIR, f))]\n",
    "image_name = sorted(image_name)\n",
    "image_name = natsorted(image_name)\n",
    "print(image_name)"
   ]
  },
  {
   "cell_type": "code",
   "execution_count": 10,
   "id": "36deadbc",
   "metadata": {},
   "outputs": [
    {
     "name": "stdout",
     "output_type": "stream",
     "text": [
      "fruit_detection/fruit_data/test/orange_83.jpg\n"
     ]
    },
    {
     "name": "stderr",
     "output_type": "stream",
     "text": [
      "2022-01-27 04:29:11.857921: I tensorflow/compiler/mlir/mlir_graph_optimization_pass.cc:116] None of the MLIR optimization passes are enabled (registered 2)\n",
      "2022-01-27 04:29:11.947478: I tensorflow/core/platform/profile_utils/cpu_utils.cc:112] CPU Frequency: 3399685000 Hz\n",
      "2022-01-27 04:29:12.457582: I tensorflow/stream_executor/platform/default/dso_loader.cc:49] Successfully opened dynamic library libcudnn.so.8\n",
      "2022-01-27 04:29:13.329103: I tensorflow/stream_executor/platform/default/dso_loader.cc:49] Successfully opened dynamic library libcublas.so.11\n",
      "2022-01-27 04:29:13.329729: I tensorflow/stream_executor/platform/default/dso_loader.cc:49] Successfully opened dynamic library libcublasLt.so.11\n"
     ]
    },
    {
     "name": "stdout",
     "output_type": "stream",
     "text": [
      "fruit_detection/fruit_data/test/apple_78.jpg\n",
      "fruit_detection/fruit_data/test/apple_84.jpg\n",
      "fruit_detection/fruit_data/test/orange_86.jpg\n",
      "fruit_detection/fruit_data/test/orange_89.jpg\n",
      "fruit_detection/fruit_data/test/banana_80.jpg\n",
      "fruit_detection/fruit_data/test/apple_85.jpg\n",
      "fruit_detection/fruit_data/test/banana_84.jpg\n",
      "fruit_detection/fruit_data/test/mixed_22.jpg\n",
      "fruit_detection/fruit_data/test/apple_82.jpg\n",
      "fruit_detection/fruit_data/test/banana_86.jpg\n",
      "fruit_detection/fruit_data/test/orange_79.jpg\n",
      "fruit_detection/fruit_data/test/apple_81.jpg\n",
      "fruit_detection/fruit_data/test/orange_87.jpg\n",
      "fruit_detection/fruit_data/test/banana_78.jpg\n",
      "fruit_detection/fruit_data/test/apple_77.jpg\n",
      "fruit_detection/fruit_data/test/banana_85.jpg\n",
      "fruit_detection/fruit_data/test/orange_81.jpg\n",
      "fruit_detection/fruit_data/test/banana_87.jpg\n",
      "fruit_detection/fruit_data/test/apple_87.jpg\n",
      "fruit_detection/fruit_data/test/banana_81.jpg\n",
      "fruit_detection/fruit_data/test/mixed_23.jpg\n",
      "fruit_detection/fruit_data/test/orange_78.jpg\n",
      "fruit_detection/fruit_data/test/apple_86.jpg\n",
      "fruit_detection/fruit_data/test/orange_84.jpg\n",
      "fruit_detection/fruit_data/test/banana_88.jpg\n",
      "fruit_detection/fruit_data/test/orange_77.jpg\n",
      "fruit_detection/fruit_data/test/orange_80.jpg\n",
      "fruit_detection/fruit_data/test/apple_89.jpg\n",
      "fruit_detection/fruit_data/test/orange_85.jpg\n",
      "fruit_detection/fruit_data/test/apple_83.jpg\n",
      "fruit_detection/fruit_data/test/banana_89.jpg\n",
      "fruit_detection/fruit_data/test/banana_83.jpg\n",
      "fruit_detection/fruit_data/test/banana_82.jpg\n",
      "fruit_detection/fruit_data/test/apple_80.jpg\n",
      "fruit_detection/fruit_data/test/banana_77.jpg\n",
      "fruit_detection/fruit_data/test/apple_88.jpg\n",
      "fruit_detection/fruit_data/test/orange_82.jpg\n",
      "fruit_detection/fruit_data/test/mixed_21.jpg\n",
      "fruit_detection/fruit_data/test/banana_79.jpg\n",
      "fruit_detection/fruit_data/test/apple_79.jpg\n"
     ]
    }
   ],
   "source": [
    "#def DetectImagesFromFolder(detector, images_dir, save_output=False, output_dir='output/'):\n",
    "\n",
    "for file in os.scandir(PATH_TO_TEST_IMAGES_DIR):\n",
    "    if file.is_file() and file.name.endswith(('.jpg', '.jpeg', '.png')) :\n",
    "        image_path = os.path.join(PATH_TO_TEST_IMAGES_DIR, file.name)\n",
    "        #class_id = 1\n",
    "        print(image_path)\n",
    "        img = cv2.imread(image_path)\n",
    "        image_np1 = cv2.cvtColor(img, cv2.COLOR_RGB2BGR)\n",
    "        input_tensor = np.expand_dims(img, 0)\n",
    "        detections = detect_fn(input_tensor)\n",
    "        bboxes = detections['detection_boxes'][0].numpy()\n",
    "        bclasses = detections['detection_classes'][0].numpy().astype(np.int32)\n",
    "        bscores = detections['detection_scores'][0].numpy()\n",
    "        IMAGE_SIZE = (20, 20)\n",
    "        vis_util.visualize_boxes_and_labels_on_image_array(\n",
    "            image_np1,\n",
    "            np.squeeze(bboxes),\n",
    "            np.squeeze(bclasses).astype(np.int32),\n",
    "            np.squeeze(bscores),\n",
    "            category_index,\n",
    "            use_normalized_coordinates=True,\n",
    "            line_thickness=4,\n",
    "            min_score_thresh=0.4)\n",
    "        im = Image.fromarray(image_np1)\n",
    "        im.save(os.path.join(CWD_PATH, 'output_fruit',file.name))"
   ]
  },
  {
   "cell_type": "code",
   "execution_count": null,
   "id": "9eb36791",
   "metadata": {},
   "outputs": [],
   "source": []
  },
  {
   "cell_type": "code",
   "execution_count": null,
   "id": "61fb3a77",
   "metadata": {},
   "outputs": [],
   "source": []
  }
 ],
 "metadata": {
  "kernelspec": {
   "display_name": "Python 3 (ipykernel)",
   "language": "python",
   "name": "python3"
  },
  "language_info": {
   "codemirror_mode": {
    "name": "ipython",
    "version": 3
   },
   "file_extension": ".py",
   "mimetype": "text/x-python",
   "name": "python",
   "nbconvert_exporter": "python",
   "pygments_lexer": "ipython3",
   "version": "3.8.10"
  }
 },
 "nbformat": 4,
 "nbformat_minor": 5
}
